{
 "cells": [
  {
   "cell_type": "code",
   "execution_count": null,
   "id": "ahead-building",
   "metadata": {},
   "outputs": [],
   "source": [
    "#!pip install -U openai-whisper\n",
    "import whisper\n",
    "import torch"
   ]
  },
  {
   "cell_type": "code",
   "execution_count": null,
   "id": "seasonal-council",
   "metadata": {},
   "outputs": [],
   "source": [
    "class AudioMed:\n",
    "    def __init__(self):\n",
    "        self._model = model = whisper.load_model(\"medium\")\n",
    "        self._options = options = whisper.DecodingOptions()\n",
    "    def predict(self, audio_path):\n",
    "        audio = whisper.load_audio(\"./audios/audio.wav\")\n",
    "        audio = whisper.pad_or_trim(audio)\n",
    "        # detect the spoken language\n",
    "        mel = whisper.log_mel_spectrogram(audio).to(self._model.device)\n",
    "        #_, probs = model.detect_language(mel)\n",
    "        # decode the audio\n",
    "        result = whisper.decode(self._model, mel, self._options)\n",
    "        text = result.text\n",
    "        del audio\n",
    "        del mel\n",
    "        del result\n",
    "        torch.cuda.empty_cache()\n",
    "        # print the recognized text\n",
    "        return text       \n"
   ]
  },
  {
   "cell_type": "code",
   "execution_count": null,
   "id": "rolled-margin",
   "metadata": {},
   "outputs": [],
   "source": [
    "am = AudioMed()"
   ]
  },
  {
   "cell_type": "code",
   "execution_count": null,
   "id": "preceding-manitoba",
   "metadata": {},
   "outputs": [],
   "source": [
    "am.predict('./audios/med.wav')"
   ]
  },
  {
   "cell_type": "code",
   "execution_count": null,
   "id": "considerable-hospital",
   "metadata": {},
   "outputs": [],
   "source": []
  }
 ],
 "metadata": {
  "kernelspec": {
   "display_name": "Python 3",
   "language": "python",
   "name": "python3"
  },
  "language_info": {
   "codemirror_mode": {
    "name": "ipython",
    "version": 3
   },
   "file_extension": ".py",
   "mimetype": "text/x-python",
   "name": "python",
   "nbconvert_exporter": "python",
   "pygments_lexer": "ipython3",
   "version": "3.8.6"
  }
 },
 "nbformat": 4,
 "nbformat_minor": 5
}
